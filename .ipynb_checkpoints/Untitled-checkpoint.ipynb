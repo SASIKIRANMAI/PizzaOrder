{
 "cells": [
  {
   "cell_type": "code",
   "execution_count": 2,
   "id": "b1e63657-7ad4-45a5-920e-3d6ad9b79462",
   "metadata": {},
   "outputs": [
    {
     "name": "stdout",
     "output_type": "stream",
     "text": [
      "Welcome to Python Pizza Deliveries!\n"
     ]
    },
    {
     "name": "stdin",
     "output_type": "stream",
     "text": [
      "What size pizza do you want? S, M, or L  S\n",
      "Do you want pepperoni? Y or N  Y\n",
      "Do you want extra cheese? Y or N  Y\n"
     ]
    },
    {
     "name": "stdout",
     "output_type": "stream",
     "text": [
      "Your final bill is: $18.\n"
     ]
    }
   ],
   "source": [
    "print(\"Welcome to Python Pizza Deliveries!\")\n",
    "size = input(\"What size pizza do you want? S, M, or L \")\n",
    "add_pepperoni = input(\"Do you want pepperoni? Y or N \")\n",
    "extra_cheese = input(\"Do you want extra cheese? Y or N \")\n",
    "bill = 0\n",
    "\n",
    "if size == \"S\" or size == \"s\":\n",
    "  bill += 15\n",
    "elif size == \"M\" or size == \"m\":\n",
    "  bill += 20\n",
    "else:\n",
    "  bill += 25\n",
    "\n",
    "if add_pepperoni == \"Y\" or add_pepperoni == \"y\":\n",
    "  if size == \"S\" or size == \"s\":\n",
    "    bill += 2\n",
    "  else:\n",
    "    bill += 3\n",
    "    \n",
    "if extra_cheese == \"Y\" or extra_cheese == \"y\":\n",
    "  bill += 1\n",
    "  \n",
    "print(f\"Your final bill is: ${bill}.\")"
   ]
  },
  {
   "cell_type": "code",
   "execution_count": null,
   "id": "7c3ad4ef-0672-4c02-9761-08d5f692b6ca",
   "metadata": {},
   "outputs": [],
   "source": []
  }
 ],
 "metadata": {
  "kernelspec": {
   "display_name": "Python 3 (ipykernel)",
   "language": "python",
   "name": "python3"
  },
  "language_info": {
   "codemirror_mode": {
    "name": "ipython",
    "version": 3
   },
   "file_extension": ".py",
   "mimetype": "text/x-python",
   "name": "python",
   "nbconvert_exporter": "python",
   "pygments_lexer": "ipython3",
   "version": "3.12.2"
  }
 },
 "nbformat": 4,
 "nbformat_minor": 5
}
